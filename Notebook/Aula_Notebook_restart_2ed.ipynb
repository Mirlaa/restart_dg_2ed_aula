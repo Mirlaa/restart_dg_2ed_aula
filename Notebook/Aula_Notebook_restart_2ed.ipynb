{
  "nbformat": 4,
  "nbformat_minor": 0,
  "metadata": {
    "colab": {
      "provenance": []
    },
    "kernelspec": {
      "name": "python3",
      "display_name": "Python 3"
    },
    "language_info": {
      "name": "python"
    }
  },
  "cells": [
    {
      "cell_type": "code",
      "execution_count": null,
      "metadata": {
        "id": "NAppfqMjfXIQ"
      },
      "outputs": [],
      "source": [
        "import numpy as np\n",
        "import pandas as pd\n",
        "import matplotlib.pyplot as plt\n",
        "import seaborn as sns\n",
        "import warnings\n",
        "warnings.filterwarnings(\"ignore\")"
      ]
    },
    {
      "cell_type": "markdown",
      "source": [
        "## Coletando nossos dados"
      ],
      "metadata": {
        "id": "yUps4rRThUzZ"
      }
    },
    {
      "cell_type": "code",
      "source": [
        "url = 'https://raw.githubusercontent.com/Mirlaa/restart_dg_2ed_aula/main/Dados/dados_restart.csv'"
      ],
      "metadata": {
        "id": "jeRpsnoshYAY"
      },
      "execution_count": null,
      "outputs": []
    },
    {
      "cell_type": "code",
      "source": [
        "df = pd.read_csv(url)\n",
        "df.head()"
      ],
      "metadata": {
        "id": "rDJ7sTr9gU_z"
      },
      "execution_count": null,
      "outputs": []
    },
    {
      "cell_type": "markdown",
      "source": [
        "## Do que se tratam os dados"
      ],
      "metadata": {
        "id": "YuQdKa4ohFZh"
      }
    },
    {
      "cell_type": "markdown",
      "source": [
        "**Dicionário de dados:** Informação sobre nossos dados.\n",
        "\n",
        "- `id`: Identificação única de cada registro;\n",
        "- `idade`: Idade do cliente;\n",
        "- `profissao`: Profissão do cliente;\n",
        "- `estado_civil`: Estado civil do cliente;\n",
        "- `educacao`: Nível de educação do cliente;\n",
        "- `inadimplencia`: Indica se o cliente está inadimplente\n",
        "- `saldo`: Saldo na conta do cliente;\n",
        "- `habitacao`: Indica se o cliente possui habitação;\n",
        "- `emprestimo`: Indica se o cliente possui empréstimo;\n",
        "- `contato`: Tipo de contato com o cliente;\n",
        "- `dia`: Dia do mês do último contato;\n",
        "- `mes`: Mês do último contato;\n",
        "- `duracao`: Duração da última ligação em segundos;\n",
        "- `campanha`: Número de contatos realizados durante esta campanha;\n",
        "- `contatos_anteriores`: Número de contatos realizados antes desta campanha;\n",
        "- `resultado_campanha_anterior`: Resultado da campanha anterior; e\n",
        "- `alvo`: Alvo da campanha."
      ],
      "metadata": {
        "id": "vKi8aaW1tZA6"
      }
    },
    {
      "cell_type": "code",
      "source": [
        "df.info()"
      ],
      "metadata": {
        "id": "KgGMsRw9tYzH"
      },
      "execution_count": null,
      "outputs": []
    },
    {
      "cell_type": "markdown",
      "source": [
        "**Observações:**\n",
        "\n",
        "- existem várias colunas com valores nulos\n",
        "- todos os valores estão no tipo apropriado, caso não estivessem usaríamos o método [`astype`](https://pandas.pydata.org/docs/reference/api/pandas.DataFrame.astype.html)"
      ],
      "metadata": {
        "id": "TjQoLbB_xZ1T"
      }
    },
    {
      "cell_type": "code",
      "source": [
        "df.describe()"
      ],
      "metadata": {
        "id": "pwY-6gcL0MHC"
      },
      "execution_count": null,
      "outputs": []
    },
    {
      "cell_type": "code",
      "source": [
        "df.describe(include=\"object\")"
      ],
      "metadata": {
        "id": "xUVunh7nLvSE"
      },
      "execution_count": null,
      "outputs": []
    },
    {
      "cell_type": "markdown",
      "source": [
        "**Observações:**\n",
        "\n",
        "- Coluna `idade` com valores irreais\n",
        "- Valores nulos em algumas colunas"
      ],
      "metadata": {
        "id": "bO_jYNmY1AW9"
      }
    },
    {
      "cell_type": "code",
      "source": [
        "df.nunique()"
      ],
      "metadata": {
        "id": "Xi_xF8DF1ypk"
      },
      "execution_count": null,
      "outputs": []
    },
    {
      "cell_type": "markdown",
      "source": [
        "**Observações:**\n",
        "\n",
        "- Coluna `id` mostra que tem ids duplicados\n",
        "- Temos colunas numéricas com apenas duas categorias, podem ser binários"
      ],
      "metadata": {
        "id": "OccldA1R13XX"
      }
    },
    {
      "cell_type": "markdown",
      "source": [
        "## Lidando com duplicados e nulos"
      ],
      "metadata": {
        "id": "fLIvB0DhhPw0"
      }
    },
    {
      "cell_type": "markdown",
      "source": [
        "## Dados duplicados"
      ],
      "metadata": {
        "id": "aQvypq-F2kLC"
      }
    },
    {
      "cell_type": "markdown",
      "source": [
        "Amostras duplicadas são dados que possuem **os mesmos valores** em colunas correspondentes.\n",
        "\n",
        "Por exemplo, não há distinção da amostra A para amostra B, justamente porque todos os valores de colunas correspondentes são iguais. Por isso, transmitem **apenas uma informação.**"
      ],
      "metadata": {
        "id": "tj52EjhwszNU"
      }
    },
    {
      "cell_type": "code",
      "source": [
        "df.duplicated()"
      ],
      "metadata": {
        "id": "ULsUBjv8-IiE"
      },
      "execution_count": null,
      "outputs": []
    },
    {
      "cell_type": "code",
      "source": [
        "df.duplicated().sum()"
      ],
      "metadata": {
        "id": "KqG30iz22pmw"
      },
      "execution_count": null,
      "outputs": []
    },
    {
      "cell_type": "code",
      "source": [
        "df[df.duplicated()]"
      ],
      "metadata": {
        "id": "xm__jfLZtv2t"
      },
      "execution_count": null,
      "outputs": []
    },
    {
      "cell_type": "markdown",
      "source": [
        "O que fazer com essas amostras? Devemos removê-las do banco de dados.\n",
        "\n",
        "Podemos citar três motivos principais para a remoção das amostras duplicadas:\n",
        "\n",
        "- **Viés do modelo**: se há amostras duplicadas no conjunto de dados, pode ser que o modelo de machine learning dê mais importância para essas amostras repetidas.\n",
        "- **Melhora do desempenho do modelo**: se inserimos amostras duplicadas, vão ser necessários mais cálculos e poder de processamento, além de ser um desperdício computacional trabalhar com amostras com o mesmo valor e que transmitem a mesma informação.\n",
        "- **Aumento da qualidade dos resultados**: vamos inserir informações únicas, sem dados repetidos. Ou seja, vão ser mais relevantes para o modelo."
      ],
      "metadata": {
        "id": "QhN4cJTVtjhb"
      }
    },
    {
      "cell_type": "code",
      "source": [
        "df.drop_duplicates(inplace=True)\n",
        "df"
      ],
      "metadata": {
        "id": "gb6BO-wlpgrV"
      },
      "execution_count": null,
      "outputs": []
    },
    {
      "cell_type": "code",
      "source": [
        "df.duplicated().sum()"
      ],
      "metadata": {
        "id": "u5tjKNN9JQED"
      },
      "execution_count": null,
      "outputs": []
    },
    {
      "cell_type": "markdown",
      "source": [
        "## Dados nulos"
      ],
      "metadata": {
        "id": "QGlvrgZ32n6b"
      }
    },
    {
      "cell_type": "markdown",
      "source": [
        "Dados nulos são valores que estão ausentes ou são desconhecidos na base de dados."
      ],
      "metadata": {
        "id": "Np-tbdviyGsb"
      }
    },
    {
      "cell_type": "code",
      "source": [
        "df.isnull()"
      ],
      "metadata": {
        "id": "lxbjxcpM_u6b"
      },
      "execution_count": null,
      "outputs": []
    },
    {
      "cell_type": "code",
      "source": [
        "df.isnull().sum()"
      ],
      "metadata": {
        "id": "JC6-nVQDgdrY"
      },
      "execution_count": null,
      "outputs": []
    },
    {
      "cell_type": "markdown",
      "source": [
        "**Observações:**\n",
        "\n",
        "- Apenas as colunas `idade` e `saldo` são colunas numéricas e ambas contém pouquíssimos dados nulos\n",
        "- As colunas `profissao`, `educacao`, `resultado_campanha_anterior` contém dados nulos com diferentes valores."
      ],
      "metadata": {
        "id": "xvR2wDNKrrem"
      }
    },
    {
      "cell_type": "markdown",
      "source": [
        "### Dados numéricos"
      ],
      "metadata": {
        "id": "14BOScQM1te7"
      }
    },
    {
      "cell_type": "markdown",
      "source": [
        "Não sabemos os valores originais em `idade` e `saldo`, mas não podemos substituir por qualquer valor.\n",
        "\n",
        "- Viés nos dados: o modelo de machine learning vai tentar procurar padrões que vão estar incorretos, pois não são os dados reais. Isso pode levar a previsões enganosas, incorretas e que não são satisfatórias.\n",
        "- Distorção de resultados: inserir um valor que não é o correto faz com que o modelo aprenda com dados incorretos e, consequentemente, levam a previsões que podem ser incorretas."
      ],
      "metadata": {
        "id": "qv2OZoaW1z3y"
      }
    },
    {
      "cell_type": "code",
      "source": [
        "df.dropna(subset=['idade','saldo'])"
      ],
      "metadata": {
        "id": "5kGEI1B01yGq"
      },
      "execution_count": null,
      "outputs": []
    },
    {
      "cell_type": "code",
      "source": [
        "df.dropna(subset=['idade','saldo'], inplace=True)"
      ],
      "metadata": {
        "id": "x2-I8OyJ8xhn"
      },
      "execution_count": null,
      "outputs": []
    },
    {
      "cell_type": "code",
      "source": [
        "df.isnull().sum()"
      ],
      "metadata": {
        "id": "YXv3UWe-8uf6"
      },
      "execution_count": null,
      "outputs": []
    },
    {
      "cell_type": "markdown",
      "source": [
        "### Dados textuais"
      ],
      "metadata": {
        "id": "PlUEC3PV1vhw"
      }
    },
    {
      "cell_type": "code",
      "source": [
        "for col in ['profissao','educacao','resultado_campanha_anterior']:\n",
        "    print(f\"Coluna: {col}\")\n",
        "    print(df[col].unique())\n",
        "    print(\"\\n\")"
      ],
      "metadata": {
        "id": "nSFIwVSu_ygw"
      },
      "execution_count": null,
      "outputs": []
    },
    {
      "cell_type": "code",
      "source": [
        "df['profissao'].fillna('desconhecido', inplace = True)\n",
        "df['educacao'].fillna('desconhecido', inplace = True)\n",
        "df['resultado_campanha_anterior'].fillna('desconhecido', inplace = True)"
      ],
      "metadata": {
        "id": "se6sIQ8hBhx5"
      },
      "execution_count": null,
      "outputs": []
    },
    {
      "cell_type": "code",
      "source": [
        "df.isnull().sum()"
      ],
      "metadata": {
        "id": "2Q_KFID2AlZq"
      },
      "execution_count": null,
      "outputs": []
    },
    {
      "cell_type": "markdown",
      "source": [
        "Vamos resetar os índices devido a esses índices saltados que devem ser evitados em machine learning."
      ],
      "metadata": {
        "id": "9pihBwiFC44p"
      }
    },
    {
      "cell_type": "code",
      "source": [
        "df.reset_index(drop=True, inplace=True)"
      ],
      "metadata": {
        "id": "jv2OE9MaC0zl"
      },
      "execution_count": null,
      "outputs": []
    },
    {
      "cell_type": "markdown",
      "source": [
        "## Verificando outliers"
      ],
      "metadata": {
        "id": "eu9n77ycJ8BP"
      }
    },
    {
      "cell_type": "markdown",
      "source": [
        "Outliers, que são valores atípicos ou um ponto fora da curva. Em estatística, isso significa um dado que se distancia muito da distribuição padrão que os dados apresentam."
      ],
      "metadata": {
        "id": "muRsnnc5KPB6"
      }
    },
    {
      "cell_type": "code",
      "source": [
        "df_numericos = df.select_dtypes(include=\"number\")\n",
        "df_numericos.head()"
      ],
      "metadata": {
        "id": "Q04lH2FZygAH"
      },
      "execution_count": null,
      "outputs": []
    },
    {
      "cell_type": "markdown",
      "source": [
        "**Conhecendo o boxplot:**\n",
        "\n",
        "![](https://github.com/Mirlaa/restart_dg_2ed_aula/blob/main/boxplot.png?raw=true)\n",
        "\n",
        "No centro da caixa, encontramos a mediana, que divide os dados ao meio, com 50% à esquerda e 50% à direita.\n",
        "\n",
        "Nos cantos superiores esquerdo e direito da caixa, estão os quartis Q1 e Q3, que dividem os dados em quatro partes iguais, cada uma com 25% dos dados. Até Q1, temos os 25% menores dados, enquanto Q3 abrange os 25% maiores.\n",
        "\n",
        "Entre Q1 e Q3, encontramos os 75% dos dados, onde Q2 é a mediana. A partir de Q3, temos os 25% finais dos dados.\n",
        "\n",
        "Acima da caixa, calculamos o IIQ (Intervalo Interquartil), que é a diferença entre Q3 e Q1.\n",
        "\n",
        "À esquerda e à direita da caixa, existem duas arestas. Na aresta esquerda, calculamos o limite inferior como \"Q1 - 1,5 x IIQ\", e na aresta direita, o limite superior como \"Q3 + 1,5 x IIQ\". Valores abaixo do limite inferior ou acima do limite superior são considerados candidatos a outliers, que estamos buscando identificar.\n",
        "\n",
        "\n",
        "```Python\n",
        "import pandas as pd\n",
        "\n",
        "# Calcular os quartis e a amplitude interquartil (IIQR) para a coluna específica\n",
        "Q1 = df['nome_da_coluna'].quantile(0.25)\n",
        "Q3 = df['nome_da_coluna'].quantile(0.75)\n",
        "IIQR = Q3 - Q1\n",
        "\n",
        "# Filtrar o DataFrame para remover outliers com base na coluna específica\n",
        "df_sem_outliers = df[~((df['nome_da_coluna'] < (Q1 - 1.5 * IIQR)) | (df['nome_da_coluna'] > (Q3 + 1.5 * IIQR)))]\n",
        "```"
      ],
      "metadata": {
        "id": "qVrl6Mn6fDHF"
      }
    },
    {
      "cell_type": "code",
      "source": [
        "df_numericos.describe()"
      ],
      "metadata": {
        "id": "fAn8HKXMdvvK"
      },
      "execution_count": null,
      "outputs": []
    },
    {
      "cell_type": "code",
      "source": [
        "plt.rcParams[\"figure.figsize\"] = (22, 3)\n",
        "sns.boxplot(x=df['idade'])"
      ],
      "metadata": {
        "id": "m-75ehm2hkDq"
      },
      "execution_count": null,
      "outputs": []
    },
    {
      "cell_type": "code",
      "source": [
        "df = df[df['idade']>= 18]\n",
        "df = df[df['idade']< 120]"
      ],
      "metadata": {
        "id": "PULTqmUAj-U9"
      },
      "execution_count": null,
      "outputs": []
    },
    {
      "cell_type": "code",
      "source": [
        "plt.rcParams[\"figure.figsize\"] = (22, 3)\n",
        "sns.boxplot(x=df['idade'])"
      ],
      "metadata": {
        "id": "VkKRpSa9rGP5"
      },
      "execution_count": null,
      "outputs": []
    },
    {
      "cell_type": "code",
      "source": [
        "sns.boxplot(x=df['contatos_anteriores'])"
      ],
      "metadata": {
        "id": "Ovf-KwAZlRQE"
      },
      "execution_count": null,
      "outputs": []
    },
    {
      "cell_type": "code",
      "source": [
        "df = df[df['contatos_anteriores']<=40]"
      ],
      "metadata": {
        "id": "qucMZnEdlRFO"
      },
      "execution_count": null,
      "outputs": []
    },
    {
      "cell_type": "code",
      "source": [
        "sns.boxplot(x=df['contatos_anteriores'])"
      ],
      "metadata": {
        "id": "nBgbTE6coInh"
      },
      "execution_count": null,
      "outputs": []
    },
    {
      "cell_type": "code",
      "source": [
        "df = df.reset_index(drop=True)"
      ],
      "metadata": {
        "id": "PB67wRWmmIAf"
      },
      "execution_count": null,
      "outputs": []
    },
    {
      "cell_type": "markdown",
      "source": [
        "# Trabalhando com dados categóricos"
      ],
      "metadata": {
        "id": "EJsi06xojOnV"
      }
    },
    {
      "cell_type": "markdown",
      "source": [
        "## Ajuste de dados de texto"
      ],
      "metadata": {
        "id": "7G3WXArUu5Zn"
      }
    },
    {
      "cell_type": "code",
      "source": [
        "df"
      ],
      "metadata": {
        "id": "WM0OdkkiXkOG"
      },
      "execution_count": null,
      "outputs": []
    },
    {
      "cell_type": "code",
      "source": [
        "df_textos = df.select_dtypes(exclude=\"number\")\n",
        "df_textos.head()"
      ],
      "metadata": {
        "id": "TVea-kMcJ87C"
      },
      "execution_count": null,
      "outputs": []
    },
    {
      "cell_type": "markdown",
      "source": [
        "**Observações:**\n",
        "\n",
        "- Quando vemos a coluna `contato` notamos que existem dados **vazios** nas primeiras linhas, vamos verificar que tipo de dado é esse."
      ],
      "metadata": {
        "id": "oo2aQ5bvE6MN"
      }
    },
    {
      "cell_type": "code",
      "source": [
        "for col in df_textos.columns:\n",
        "    print(f\"Coluna: {col}\")\n",
        "    print(df_textos[col].unique())\n",
        "    print(\"\\n\")"
      ],
      "metadata": {
        "id": "w5ER2aQuu7oV"
      },
      "execution_count": null,
      "outputs": []
    },
    {
      "cell_type": "code",
      "source": [
        "df_textos.nunique()"
      ],
      "metadata": {
        "id": "SXaZYAGwmiJZ"
      },
      "execution_count": null,
      "outputs": []
    },
    {
      "cell_type": "code",
      "source": [
        "df['contato'] = df['contato'].replace(' ', 'outro')"
      ],
      "metadata": {
        "id": "JqCkvsxYG8AH"
      },
      "execution_count": null,
      "outputs": []
    },
    {
      "cell_type": "code",
      "source": [
        "df['contato'].unique()"
      ],
      "metadata": {
        "id": "fz0HaFtjHPxC"
      },
      "execution_count": null,
      "outputs": []
    },
    {
      "cell_type": "markdown",
      "source": [
        "Variáveis categóricas são uma forma de agrupar informações em categorias diferentes, sem um valor numérico associado a elas, como o caso das variáveis numéricas.\n",
        "\n",
        "Não conseguimos atribuir um valor numérico para essas variáveis, apenas classificá-las em categorias distintas."
      ],
      "metadata": {
        "id": "ueKGEnfkH0-G"
      }
    },
    {
      "cell_type": "markdown",
      "source": [
        "O ***One-Hot Encoding*** é uma técnica de pré-processamento usada para lidar com colunas categóricas em um DataFrame, transformando essas categorias em representações binárias, onde cada categoria se torna uma nova coluna binária (0 ou 1).\n",
        "\n",
        "Vamos ver um exemplo, temos um DataFrame que possui uma coluna de cores com valores categóricos:\n",
        "\n",
        "|    | Cor      |\n",
        "|---:|:---------|\n",
        "|  0 | Vermelho |\n",
        "|  1 | Azul     |\n",
        "|  2 | Verde    |\n",
        "|  3 | Vermelho |\n",
        "|  4 | Amarelo  |\n",
        "\n",
        "Ao aplicar o *One-Hot Encoding* convertemos cada cor (categoria) em uma coluna binária:\n",
        "\n",
        "| | Cor_Amarelo | Cor_Azul | Cor_Verde | Cor_Vermelho |\n",
        "|---:|-----:|---------:|-------:|-------:|\n",
        "|  0 |  0 |          0 |0 |   1 |\n",
        "|  1 |  0 |          1 |0 |   0 |\n",
        "|  2 |  0 |          0 |1 |   0 |\n",
        "|  3 |  0 |          0 |0 |   1 |\n",
        "|  4 |  1 |          0 |0 |   0 |\n",
        "\n",
        "Cada categoria única na coluna 'Cor' se torna uma nova coluna binária no DataFrame codificado. Por exemplo, 'Vermelho' se torna uma coluna chamada 'Cor_Vermelho', onde temos 1 para as linhas em que a cor é 'Vermelho' e 0 caso contrário. O mesmo princípio se aplica às outras cores."
      ],
      "metadata": {
        "id": "n0s6Ocsw1U8y"
      }
    },
    {
      "cell_type": "markdown",
      "source": [
        "- Existe a aplicação do *One-Hot Encoding* com Pandas utilizando [`get_dummies`](https://pandas.pydata.org/docs/reference/api/pandas.get_dummies.html).\n",
        "\n",
        "```Python\n",
        "df = pd.get_dummies(df)\n",
        "\n",
        "```\n",
        "\n",
        "Mas podemos fazer diferente."
      ],
      "metadata": {
        "id": "uq0DhdPjr8tD"
      }
    },
    {
      "cell_type": "code",
      "source": [
        "df.drop(['profissao'], axis=1, inplace=True)"
      ],
      "metadata": {
        "id": "T3zzy_N5mvBL"
      },
      "execution_count": null,
      "outputs": []
    },
    {
      "cell_type": "code",
      "source": [
        "categorias = {\n",
        "    'estado_civil': ['casado(a)', 'solteiro(a)', 'divorciado(a)'],\n",
        "    'educacao': ['secundário', 'terciário', 'desconhecido', 'primário'],\n",
        "    'inadimplencia': ['sim'],\n",
        "    'habitacao': ['sim'],\n",
        "    'emprestimo': ['sim'],\n",
        "    'contato': ['outro', 'celular', 'telefone'],\n",
        "    'resultado_campanha_anterior': ['desconhecido', 'falha', 'outro', 'sucesso'],\n",
        "}"
      ],
      "metadata": {
        "id": "59lwlU33WlCe"
      },
      "execution_count": null,
      "outputs": []
    },
    {
      "cell_type": "code",
      "source": [
        "from sklearn.preprocessing import OneHotEncoder\n",
        "import joblib\n",
        "\n",
        "codificador = OneHotEncoder(categories=[categorias[col] for col in categorias], sparse_output=False, handle_unknown='ignore')\n",
        "\n",
        "colunas_codificadas = codificador.fit_transform(df[list(categorias.keys())])"
      ],
      "metadata": {
        "id": "x7tKetS2qG2S"
      },
      "execution_count": null,
      "outputs": []
    },
    {
      "cell_type": "code",
      "source": [
        "colunas_codificadas"
      ],
      "metadata": {
        "id": "Qh95AbIar8Za"
      },
      "execution_count": null,
      "outputs": []
    },
    {
      "cell_type": "markdown",
      "source": [
        "Podemos salvar o encoder para aplicar em outro conjunto de dados, como o conjunto de teste."
      ],
      "metadata": {
        "id": "_jskL3zTqLvI"
      }
    },
    {
      "cell_type": "code",
      "source": [
        "joblib.dump(codificador, 'modelo_onehotencoder.pkl')"
      ],
      "metadata": {
        "id": "lX0wXVooqGwy"
      },
      "execution_count": null,
      "outputs": []
    },
    {
      "cell_type": "markdown",
      "source": [
        "Para carregar o modelo posteriormente\n",
        "\n",
        "```Python\n",
        "import pandas as pd\n",
        "import joblib\n",
        "\n",
        "encoder_loaded = joblib.load('modelo_onehotencoder.pkl')\n",
        "\n",
        "# novos_dados é um outro conjunto de dados\n",
        "\n",
        "colunas_categoricas = ['profissao', 'estado_civil', 'educacao', 'inadimplencia', 'habitacao',\n",
        "                       'emprestimo', 'contato', 'mes', 'resultado_campanha_anterior']\n",
        "\n",
        "dados_codificados_novos = codificador_carregado.transform(novos_dados[colunas_categoricas])\n",
        "```"
      ],
      "metadata": {
        "id": "UzcK15U2qxDT"
      }
    },
    {
      "cell_type": "code",
      "source": [
        "df_codificado = pd.DataFrame(colunas_codificadas, columns=codificador.get_feature_names_out())"
      ],
      "metadata": {
        "id": "KGhHzLd8qGqz"
      },
      "execution_count": null,
      "outputs": []
    },
    {
      "cell_type": "code",
      "source": [
        "df_codificado"
      ],
      "metadata": {
        "id": "BXYI-9XQsCsa"
      },
      "execution_count": null,
      "outputs": []
    },
    {
      "cell_type": "code",
      "source": [
        "df_final = pd.concat([df, df_codificado], axis=1)\n",
        "\n",
        "df_final.drop(columns=list(categorias.keys()), inplace=True)"
      ],
      "metadata": {
        "id": "qwZHjiSAqGl4"
      },
      "execution_count": null,
      "outputs": []
    },
    {
      "cell_type": "code",
      "source": [
        "df_final"
      ],
      "metadata": {
        "id": "ocI-2a9gsVQj"
      },
      "execution_count": null,
      "outputs": []
    },
    {
      "cell_type": "markdown",
      "source": [
        "### Dados da coluna alvo"
      ],
      "metadata": {
        "id": "NP0cFG1mGyEf"
      }
    },
    {
      "cell_type": "markdown",
      "source": [
        "**Observações:**\n",
        "\n",
        "- Ainda existe uma coluna em formato de texto: `alvo`"
      ],
      "metadata": {
        "id": "GSi604QEy6TX"
      }
    },
    {
      "cell_type": "code",
      "source": [
        "binario_map = {\n",
        "    'sim': 1,\n",
        "    'não': 0\n",
        "}\n",
        "\n",
        "df_final['alvo'].map(binario_map)"
      ],
      "metadata": {
        "id": "CJW83qZEzNcM"
      },
      "execution_count": null,
      "outputs": []
    },
    {
      "cell_type": "code",
      "source": [
        "df_final['alvo'] = df_final['alvo'].map(binario_map)"
      ],
      "metadata": {
        "id": "BRIlxl-BuSi-"
      },
      "execution_count": null,
      "outputs": []
    },
    {
      "cell_type": "code",
      "source": [
        "mes_map = {\n",
        "    'janeiro': 1, 'fevereiro': 2, 'março': 3, 'abril': 4, 'maio': 5, 'junho': 6,\n",
        "    'julho': 7, 'agosto': 8, 'setembro': 9, 'outubro': 10, 'novembro': 11, 'dezembro': 12\n",
        "}\n",
        "\n",
        "df_final['mes'].map(mes_map)"
      ],
      "metadata": {
        "id": "1gck4EOcn8w3"
      },
      "execution_count": null,
      "outputs": []
    },
    {
      "cell_type": "code",
      "source": [
        "df_final['mes'] = df_final['mes'].map(mes_map)"
      ],
      "metadata": {
        "id": "p-iY3MagogyL"
      },
      "execution_count": null,
      "outputs": []
    },
    {
      "cell_type": "code",
      "source": [
        "df_final"
      ],
      "metadata": {
        "id": "4lEfOabRuFXI"
      },
      "execution_count": null,
      "outputs": []
    },
    {
      "cell_type": "code",
      "source": [
        "df_final.to_csv('dados_restart_tratados.csv', index=False)"
      ],
      "metadata": {
        "id": "0ps0wb3Vuk4f"
      },
      "execution_count": null,
      "outputs": []
    },
    {
      "cell_type": "markdown",
      "source": [
        "# Visualizações"
      ],
      "metadata": {
        "id": "eknthD3gLYI2"
      }
    },
    {
      "cell_type": "code",
      "source": [
        "df_final.columns"
      ],
      "metadata": {
        "id": "ORZNyULBxG8q"
      },
      "execution_count": null,
      "outputs": []
    },
    {
      "cell_type": "code",
      "source": [
        "correlacoes = np.corrcoef(df_final.values, rowvar=False)\n",
        "correlacoes"
      ],
      "metadata": {
        "id": "r25lWObYNZ47",
        "collapsed": true
      },
      "execution_count": null,
      "outputs": []
    },
    {
      "cell_type": "markdown",
      "source": [
        "- É possível também aplicar [`df.corr`](https://pandas.pydata.org/docs/reference/api/pandas.DataFrame.corr.html) para ter a matriz de correlação."
      ],
      "metadata": {
        "id": "bNacA__Jv0Tf"
      }
    },
    {
      "cell_type": "markdown",
      "source": [
        "Podemos buscar observar em um gráfico de calor os valores de correlação."
      ],
      "metadata": {
        "id": "B9Eps9PC7RYv"
      }
    },
    {
      "cell_type": "code",
      "source": [
        "correlacoes_df = pd.DataFrame(correlacoes, index=df_final.columns, columns=df_final.columns)\n",
        "\n",
        "plt.figure(figsize=(10, 8))\n",
        "sns.heatmap(correlacoes_df, cmap='coolwarm', vmin=-1, vmax=1, annot = False)\n",
        "plt.title('Matriz de Correlação')\n",
        "plt.show()"
      ],
      "metadata": {
        "id": "xHVQKZEtNZ1a"
      },
      "execution_count": null,
      "outputs": []
    },
    {
      "cell_type": "markdown",
      "source": [
        "Temos muitas colunas para deixar na matriz."
      ],
      "metadata": {
        "id": "CwrHGDmz8FXA"
      }
    },
    {
      "cell_type": "code",
      "source": [
        "correlacao_alvo = correlacoes_df['alvo'].sort_values(ascending=False)"
      ],
      "metadata": {
        "id": "hnxgkK9eJumY"
      },
      "execution_count": null,
      "outputs": []
    },
    {
      "cell_type": "code",
      "source": [
        "plt.figure(figsize=(10, 8))\n",
        "sns.barplot(x=correlacao_alvo.values, y=correlacao_alvo.index, palette='coolwarm')\n",
        "plt.title('Correlação com a Variável Alvo')\n",
        "plt.show()"
      ],
      "metadata": {
        "id": "hDvCYrWqNZzK"
      },
      "execution_count": null,
      "outputs": []
    },
    {
      "cell_type": "markdown",
      "source": [
        "# Documentação usada no projeto\n",
        "\n",
        "Links da documentação para os métodos utilizados na oficina.\n",
        "\n",
        "- [`read_csv`](https://pandas.pydata.org/docs/reference/api/pandas.read_csv.html#pandas-read-csv)\n",
        "- [`info`](https://pandas.pydata.org/docs/reference/api/pandas.DataFrame.info.html#pandas.DataFrame.info)\n",
        "- [`describe`](https://pandas.pydata.org/docs/reference/api/pandas.DataFrame.describe.html#pandas.DataFrame.describe)\n",
        "- [`nunique`](https://pandas.pydata.org/docs/reference/api/pandas.DataFrame.nunique.html#pandas.DataFrame.nunique)\n",
        "- [`duplicated`](https://pandas.pydata.org/docs/reference/api/pandas.DataFrame.duplicated.html#pandas.DataFrame.duplicated)\n",
        "- [`Funções built-in`](https://docs.python.org/3/library/functions.html)\n",
        "- [`drop_duplicates`](https://pandas.pydata.org/docs/reference/api/pandas.DataFrame.drop_duplicates.html#pandas.DataFrame.drop_duplicates)\n",
        "- [`dropna`](https://pandas.pydata.org/docs/reference/api/pandas.DataFrame.dropna.html#pandas.DataFrame.dropna)\n",
        "- [`unique`](https://pandas.pydata.org/docs/reference/api/pandas.Series.unique.html#pandas.Series.unique)\n",
        "- [`isnull`](https://pandas.pydata.org/docs/reference/api/pandas.DataFrame.isnull.html#pandas.DataFrame.isnull)\n",
        "- [`fillna`](https://pandas.pydata.org/docs/reference/api/pandas.DataFrame.fillna.html)\n",
        "- [`reset_index`](https://pandas.pydata.org/docs/reference/api/pandas.DataFrame.reset_index.html#pandas.DataFrame.reset_index)\n",
        "- [`select_dtypes`](https://pandas.pydata.org/docs/reference/api/pandas.DataFrame.select_dtypes.html#pandas.DataFrame.select_dtypes)\n",
        "- [`plt.rcParams`](https://matplotlib.org/stable/users/explain/customizing.html#customizing-with-dynamic-rc-settings)\n",
        "- [`sns.boxplot`](https://seaborn.pydata.org/generated/seaborn.boxplot.html)\n",
        "- [`replace`](https://pandas.pydata.org/docs/reference/api/pandas.DataFrame.replace.html#pandas.DataFrame.replace)\n",
        "- [`map`](https://pandas.pydata.org/docs/reference/api/pandas.Series.map.html#pandas.Series.map)\n",
        "- [`drop`](https://pandas.pydata.org/docs/reference/api/pandas.DataFrame.drop.html#pandas.DataFrame.drop)\n",
        "- [`OneHotEncoder`](https://scikit-learn.org/stable/modules/generated/sklearn.preprocessing.OneHotEncoder.html)\n",
        "- [`concat`](https://pandas.pydata.org/docs/reference/api/pandas.concat.html)\n",
        "- [`DataFrame`](https://pandas.pydata.org/docs/reference/api/pandas.DataFrame.html)\n",
        "- [`corrcoef`](https://numpy.org/doc/stable/reference/generated/numpy.corrcoef.html)"
      ],
      "metadata": {
        "id": "Ej87YCdu1lDD"
      }
    }
  ]
}